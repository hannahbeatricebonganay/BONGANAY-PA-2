{
 "cells": [
  {
   "cell_type": "markdown",
   "id": "559e10aa-6bb0-4cdd-acb2-03d0cc0dae40",
   "metadata": {},
   "source": [
    "1. NORMALIZATION PROBLEM"
   ]
  },
  {
   "cell_type": "code",
   "execution_count": 17,
   "id": "5d3032b1-1999-4dd4-a293-4d629e39a062",
   "metadata": {},
   "outputs": [
    {
     "name": "stdout",
     "output_type": "stream",
     "text": [
      "MEAN: 0.5667817272208346\n",
      "STANDARD DEVIATION: 0.28539720679830755\n",
      " \n",
      "X:\n",
      "[[0.19609231 0.7027744  0.41369173 0.57680075 0.72787171]\n",
      " [0.1905404  0.57311819 0.61419255 0.54398801 0.792635  ]\n",
      " [0.54356773 0.40216491 0.08158688 0.71575674 0.99563059]\n",
      " [0.14252789 0.15301807 0.20621401 0.93634909 0.80203071]\n",
      " [0.90898529 0.96702019 0.77806882 0.89294219 0.31197502]]\n",
      " \n",
      "NORMALIZED:\n",
      "[[-1.2988544   0.47650317 -0.53641027  0.03510553  0.56444135]\n",
      " [-1.31830766  0.02220226  0.16612225 -0.07986663  0.79136468]\n",
      " [-0.08133926 -0.57679898 -1.70006866  0.52199184  1.50263861]\n",
      " [-1.48653816 -1.44978172 -1.26338911  1.29492283  0.82428623]\n",
      " [ 1.19904314  1.40239095  0.74032643  1.1428299  -0.89281431]]\n"
     ]
    }
   ],
   "source": [
    "import numpy as np\n",
    "\n",
    "np.random.seed(115)\n",
    "X = np.random.rand(5,5)\n",
    "\n",
    "meanvalue = X.mean()\n",
    "stdvalue = X.std()\n",
    "\n",
    "Z = (X-meanvalue)/stdvalue\n",
    "\n",
    "print(\"MEAN:\", meanvalue)\n",
    "print(\"STANDARD DEVIATION:\", stdvalue)\n",
    "print(\" \")\n",
    "print(\"X:\")\n",
    "print(X)\n",
    "print(\" \")\n",
    "print(\"NORMALIZED:\")\n",
    "print(Z)\n",
    "\n",
    "np.save(\"X_normalized.npy\", Z)"
   ]
  },
  {
   "cell_type": "code",
   "execution_count": 21,
   "id": "6c6c3660-afce-4bb3-b702-1f8c1b444b43",
   "metadata": {},
   "outputs": [
    {
     "name": "stdout",
     "output_type": "stream",
     "text": [
      "[[-1.2988544   0.47650317 -0.53641027  0.03510553  0.56444135]\n",
      " [-1.31830766  0.02220226  0.16612225 -0.07986663  0.79136468]\n",
      " [-0.08133926 -0.57679898 -1.70006866  0.52199184  1.50263861]\n",
      " [-1.48653816 -1.44978172 -1.26338911  1.29492283  0.82428623]\n",
      " [ 1.19904314  1.40239095  0.74032643  1.1428299  -0.89281431]]\n"
     ]
    }
   ],
   "source": [
    "# NUMPY FILE\n",
    "data = np.load(\"X_normalized.npy\")\n",
    "print(data) "
   ]
  },
  {
   "cell_type": "markdown",
   "id": "2675213a-3f30-4dd5-b557-e1fca60ae699",
   "metadata": {},
   "source": [
    "2. DIVISIBLE BY 3 MATRIX"
   ]
  },
  {
   "cell_type": "code",
   "execution_count": 16,
   "id": "f882b3f0-d759-47dc-94b8-8fb740ba79a8",
   "metadata": {},
   "outputs": [
    {
     "name": "stdout",
     "output_type": "stream",
     "text": [
      "MATRIX A SQUARES\n",
      "[[    1     4     9    16    25    36    49    64    81   100]\n",
      " [  121   144   169   196   225   256   289   324   361   400]\n",
      " [  441   484   529   576   625   676   729   784   841   900]\n",
      " [  961  1024  1089  1156  1225  1296  1369  1444  1521  1600]\n",
      " [ 1681  1764  1849  1936  2025  2116  2209  2304  2401  2500]\n",
      " [ 2601  2704  2809  2916  3025  3136  3249  3364  3481  3600]\n",
      " [ 3721  3844  3969  4096  4225  4356  4489  4624  4761  4900]\n",
      " [ 5041  5184  5329  5476  5625  5776  5929  6084  6241  6400]\n",
      " [ 6561  6724  6889  7056  7225  7396  7569  7744  7921  8100]\n",
      " [ 8281  8464  8649  8836  9025  9216  9409  9604  9801 10000]]\n",
      " \n",
      "SQUARES DIVISIBLE BY 3:\n",
      "[   9   36   81  144  225  324  441  576  729  900 1089 1296 1521 1764\n",
      " 2025 2304 2601 2916 3249 3600 3969 4356 4761 5184 5625 6084 6561 7056\n",
      " 7569 8100 8649 9216 9801]\n"
     ]
    }
   ],
   "source": [
    "import numpy as np\n",
    "\n",
    "numbers = np.arange(1,101)\n",
    "squares = numbers**2\n",
    "A = squares.reshape(10,10)\n",
    "divideby3 = A[A%3==0]\n",
    "\n",
    "print(\"MATRIX A SQUARES\")\n",
    "print(A)\n",
    "print(\" \")\n",
    "print(\"SQUARES DIVISIBLE BY 3:\")\n",
    "print(divideby3)\n",
    "\n",
    "np.save(\"div_by_3.npy\", divideby3)"
   ]
  },
  {
   "cell_type": "code",
   "execution_count": 22,
   "id": "1dd859ce-7ff9-4866-9abd-2dbbd04e862c",
   "metadata": {},
   "outputs": [
    {
     "name": "stdout",
     "output_type": "stream",
     "text": [
      "[   9   36   81  144  225  324  441  576  729  900 1089 1296 1521 1764\n",
      " 2025 2304 2601 2916 3249 3600 3969 4356 4761 5184 5625 6084 6561 7056\n",
      " 7569 8100 8649 9216 9801]\n"
     ]
    }
   ],
   "source": [
    "# NUMPY FILE\n",
    "data = np.load(\"div_by_3.npy\")\n",
    "print(data)"
   ]
  },
  {
   "cell_type": "code",
   "execution_count": null,
   "id": "be98ff3a-f242-4334-9927-443e6355346a",
   "metadata": {},
   "outputs": [],
   "source": []
  }
 ],
 "metadata": {
  "kernelspec": {
   "display_name": "Python [conda env:base] *",
   "language": "python",
   "name": "conda-base-py"
  },
  "language_info": {
   "codemirror_mode": {
    "name": "ipython",
    "version": 3
   },
   "file_extension": ".py",
   "mimetype": "text/x-python",
   "name": "python",
   "nbconvert_exporter": "python",
   "pygments_lexer": "ipython3",
   "version": "3.13.5"
  }
 },
 "nbformat": 4,
 "nbformat_minor": 5
}
